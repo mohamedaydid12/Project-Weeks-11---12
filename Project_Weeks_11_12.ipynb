{
  "nbformat": 4,
  "nbformat_minor": 0,
  "metadata": {
    "colab": {
      "provenance": [],
      "authorship_tag": "ABX9TyPOS5Ip0m8NqCpNhO3dPC9w",
      "include_colab_link": true
    },
    "kernelspec": {
      "name": "python3",
      "display_name": "Python 3"
    },
    "language_info": {
      "name": "python"
    }
  },
  "cells": [
    {
      "cell_type": "markdown",
      "metadata": {
        "id": "view-in-github",
        "colab_type": "text"
      },
      "source": [
        "<a href=\"https://colab.research.google.com/github/mohamedaydid12/Project-Weeks-11---12/blob/main/Project_Weeks_11_12.ipynb\" target=\"_parent\"><img src=\"https://colab.research.google.com/assets/colab-badge.svg\" alt=\"Open In Colab\"/></a>"
      ]
    },
    {
      "cell_type": "code",
      "execution_count": null,
      "metadata": {
        "id": "JyMtXKYFadNb"
      },
      "outputs": [],
      "source": [
        "import requests\n",
        "from bs4 import BeautifulSoup\n",
        "import nltk\n",
        "from nltk.sentiment import SentimentIntensityAnalyzer\n",
        "\n",
        "# Step 1: Scrape Text Data from BBC News\n",
        "url = 'https://www.bbc.com/news'\n",
        "response = requests.get(url)\n",
        "soup = BeautifulSoup(response.text, 'html.parser')\n",
        "\n",
        "# Extract headlines (from <h3> tags)\n",
        "headlines = [h.text for h in soup.find_all('h3')]\n",
        "\n",
        "# Print the first few headlines\n",
        "print(\"Sample Headlines:\")\n",
        "for headline in headlines[:5]:\n",
        "    print(headline)\n",
        "\n",
        "# Step 2: Sentiment Analysis with NLTK\n",
        "nltk.download('vader_lexicon')  # Download NLTK's Vader sentiment analyzer\n",
        "\n",
        "# Initialize the Sentiment Intensity Analyzer\n",
        "sia = SentimentIntensityAnalyzer()\n",
        "\n",
        "# Step 3: Analyze Sentiment and Categorize Headlines\n",
        "positive = []\n",
        "neutral = []\n",
        "negative = []\n",
        "\n",
        "for headline in headlines:\n",
        "    score = sia.polarity_scores(headline)\n",
        "    if score['compound'] > 0.05:\n",
        "        positive.append(headline)\n",
        "    elif score['compound'] < -0.05:\n",
        "        negative.append(headline)\n",
        "    else:\n",
        "        neutral.append(headline)\n",
        "\n",
        "# Print the counts of each sentiment category\n",
        "print(\"\\nSentiment Categories:\")\n",
        "print(f\"Positive headlines: {len(positive)}\")\n",
        "print(f\"Neutral headlines: {len(neutral)}\")\n",
        "print(f\"Negative headlines: {len(negative)}\")\n",
        "\n",
        "# Step 4: Display some examples from each sentiment category\n",
        "print(\"\\nPositive Headlines:\")\n",
        "for p in positive[:5]:\n",
        "    print(p)\n",
        "\n",
        "print(\"\\nNeutral Headlines:\")\n",
        "for n in neutral[:5]:\n",
        "    print(n)\n",
        "\n",
        "print(\"\\nNegative Headlines:\")\n",
        "for n in negative[:5]:\n",
        "    print(n)\n"
      ]
    }
  ]
}